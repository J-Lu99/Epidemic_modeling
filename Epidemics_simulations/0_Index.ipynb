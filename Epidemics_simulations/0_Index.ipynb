{
 "cells": [
  {
   "cell_type": "markdown",
   "metadata": {},
   "source": [
    "# Contents on this file\n",
    "----\n",
    "- #### [Gillespie algorithm](Gillespie_simulations&GUI.ipynb)\n",
    "    - Gillespie algorithm definition.\n",
    "    - Drunken man simulations.\n",
    "    - SIS, SIR, SIRS models and simulations.\n",
    "    - Includes GUI.\n",
    "----\n",
    "- #### [Graph theory](Graph_theory.ipynb)\n",
    "    - For familiarization.\n",
    "----\n",
    "- #### [Epidemics on networks](Epidemics_on_Networks.ipynb)\n",
    "    - An epidemic on Karate Club.\n",
    "    - Animating epidemics.\n",
    "        - Epidemics on a lattice.\n",
    "    - Generating random networks with from given degree distribution.\n",
    "    - Generating networks with a given degree probability.\n",
    "    - Testing that it is Poissonian $P(k) = \\frac{\\lambda^k e^{-\\lambda}}{k!}$:\n",
    "        A Poisson degree profile is typical for Erdos-Renyi graph.We compare the experimental degree frequency in a graph generated with a Poisson profile, and the actual Poisson distribution.\n",
    "    - Run many SIR simulations, and compute their average and compare with mean field solutions.\n",
    "\n",
    "\n",
    "    - Study SIS model on the Zachary Club graph, starting the epidemic from node 0.\n",
    "        - Compute the average over many simulations of an epidemic.\n",
    "        - Compare this average with the results of integrating IBMF and PBMF.\n",
    "        - What is the average time of infection of node 19 in the simulations?\n",
    "        - How does it compares with the moment in which probability of infection is 0.5, accroding to both approximations?\n",
    "\n",
    "\n",
    "    - Study the equilibrium of SIS epidemic for different values of $\\lambda = \\beta/\\mu$ in two topologies: Erdos-Renyi and Scale Free networks.\n",
    "        - Create to large networks (N=1000) with the same average degree $<k> = 6$.\n",
    "        - Plot the fraction of infected individuals in the steady state, for both networks, as a function of $\\lambda$\n",
    "        - Do they have the same epidemic threshold. Why?\n",
    "        - Which of the epidemic thresholds is closer to the mean field prediction $\\lambda_c = \\frac{<k>}{<k^2>}$\n",
    "----\n",
    "- #### Applications\n",
    "    - [Modelation of COVID as a SIRS epidemic](SIRS_COVID.ipynb)\n",
    "    - [Modelation of a SIRS epidemic with 10 % of infected population removed on every step](SIR_10%remove.ipynb)\n",
    "    - [Modelation of a SIS epidemic on Havana city, using the movility data](SIS_Havana.ipynb)\n",
    "----\n",
    "\n",
    "\n"
   ]
  },
  {
   "cell_type": "markdown",
   "metadata": {},
   "source": [
    "                                                                            "
   ]
  }
 ],
 "metadata": {
  "language_info": {
   "name": "python"
  },
  "orig_nbformat": 4
 },
 "nbformat": 4,
 "nbformat_minor": 2
}
